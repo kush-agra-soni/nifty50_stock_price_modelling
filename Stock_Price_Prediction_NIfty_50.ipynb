{
  "metadata": {
    "kernelspec": {
      "display_name": "Python 3",
      "name": "python3"
    },
    "language_info": {
      "name": "python",
      "version": "3.11.11",
      "mimetype": "text/x-python",
      "codemirror_mode": {
        "name": "ipython",
        "version": 3
      },
      "pygments_lexer": "ipython3",
      "nbconvert_exporter": "python",
      "file_extension": ".py"
    },
    "kaggle": {
      "accelerator": "none",
      "dataSources": [
        {
          "sourceId": 12033863,
          "sourceType": "datasetVersion",
          "datasetId": 7571831
        }
      ],
      "dockerImageVersionId": 31041,
      "isInternetEnabled": true,
      "language": "python",
      "sourceType": "notebook",
      "isGpuEnabled": false
    },
    "colab": {
      "provenance": [],
      "gpuType": "T4"
    },
    "accelerator": "GPU",
    "widgets": {
      "application/vnd.jupyter.widget-state+json": {
        "7ee81db6a8314db2b6f8dba61e2aae7a": {
          "model_module": "@jupyter-widgets/controls",
          "model_name": "HBoxModel",
          "model_module_version": "1.5.0",
          "state": {
            "_dom_classes": [],
            "_model_module": "@jupyter-widgets/controls",
            "_model_module_version": "1.5.0",
            "_model_name": "HBoxModel",
            "_view_count": null,
            "_view_module": "@jupyter-widgets/controls",
            "_view_module_version": "1.5.0",
            "_view_name": "HBoxView",
            "box_style": "",
            "children": [
              "IPY_MODEL_2efc2224b16b448a908dd66b5a1ecf26",
              "IPY_MODEL_016461bbc8a045af9919f350fc5a2600",
              "IPY_MODEL_57109eab8dc54ade8c1260d34d1fa6b4"
            ],
            "layout": "IPY_MODEL_8d63dff2595f4ffbab57ed0bcda15a3e"
          }
        },
        "2efc2224b16b448a908dd66b5a1ecf26": {
          "model_module": "@jupyter-widgets/controls",
          "model_name": "HTMLModel",
          "model_module_version": "1.5.0",
          "state": {
            "_dom_classes": [],
            "_model_module": "@jupyter-widgets/controls",
            "_model_module_version": "1.5.0",
            "_model_name": "HTMLModel",
            "_view_count": null,
            "_view_module": "@jupyter-widgets/controls",
            "_view_module_version": "1.5.0",
            "_view_name": "HTMLView",
            "description": "",
            "description_tooltip": null,
            "layout": "IPY_MODEL_b29a5116c6be4d40889af9f82065dc55",
            "placeholder": "​",
            "style": "IPY_MODEL_b02471c2f2db430fa13507787cf61206",
            "value": "Datasets: 100%"
          }
        },
        "016461bbc8a045af9919f350fc5a2600": {
          "model_module": "@jupyter-widgets/controls",
          "model_name": "FloatProgressModel",
          "model_module_version": "1.5.0",
          "state": {
            "_dom_classes": [],
            "_model_module": "@jupyter-widgets/controls",
            "_model_module_version": "1.5.0",
            "_model_name": "FloatProgressModel",
            "_view_count": null,
            "_view_module": "@jupyter-widgets/controls",
            "_view_module_version": "1.5.0",
            "_view_name": "ProgressView",
            "bar_style": "success",
            "description": "",
            "description_tooltip": null,
            "layout": "IPY_MODEL_45f9b9851e3743bdbfc93d7f6e6a9a7f",
            "max": 3,
            "min": 0,
            "orientation": "horizontal",
            "style": "IPY_MODEL_311bda51c1694a80a9b4ccf1a0e61230",
            "value": 3
          }
        },
        "57109eab8dc54ade8c1260d34d1fa6b4": {
          "model_module": "@jupyter-widgets/controls",
          "model_name": "HTMLModel",
          "model_module_version": "1.5.0",
          "state": {
            "_dom_classes": [],
            "_model_module": "@jupyter-widgets/controls",
            "_model_module_version": "1.5.0",
            "_model_name": "HTMLModel",
            "_view_count": null,
            "_view_module": "@jupyter-widgets/controls",
            "_view_module_version": "1.5.0",
            "_view_name": "HTMLView",
            "description": "",
            "description_tooltip": null,
            "layout": "IPY_MODEL_f8ec5997ad944fffa620a4ac0278fb5f",
            "placeholder": "​",
            "style": "IPY_MODEL_7cc9c5b9c9cc48278925b9455a0990d1",
            "value": " 3/3 [49:27&lt;00:00, 1031.62s/it]"
          }
        },
        "8d63dff2595f4ffbab57ed0bcda15a3e": {
          "model_module": "@jupyter-widgets/base",
          "model_name": "LayoutModel",
          "model_module_version": "1.2.0",
          "state": {
            "_model_module": "@jupyter-widgets/base",
            "_model_module_version": "1.2.0",
            "_model_name": "LayoutModel",
            "_view_count": null,
            "_view_module": "@jupyter-widgets/base",
            "_view_module_version": "1.2.0",
            "_view_name": "LayoutView",
            "align_content": null,
            "align_items": null,
            "align_self": null,
            "border": null,
            "bottom": null,
            "display": null,
            "flex": null,
            "flex_flow": null,
            "grid_area": null,
            "grid_auto_columns": null,
            "grid_auto_flow": null,
            "grid_auto_rows": null,
            "grid_column": null,
            "grid_gap": null,
            "grid_row": null,
            "grid_template_areas": null,
            "grid_template_columns": null,
            "grid_template_rows": null,
            "height": null,
            "justify_content": null,
            "justify_items": null,
            "left": null,
            "margin": null,
            "max_height": null,
            "max_width": null,
            "min_height": null,
            "min_width": null,
            "object_fit": null,
            "object_position": null,
            "order": null,
            "overflow": null,
            "overflow_x": null,
            "overflow_y": null,
            "padding": null,
            "right": null,
            "top": null,
            "visibility": null,
            "width": null
          }
        },
        "b29a5116c6be4d40889af9f82065dc55": {
          "model_module": "@jupyter-widgets/base",
          "model_name": "LayoutModel",
          "model_module_version": "1.2.0",
          "state": {
            "_model_module": "@jupyter-widgets/base",
            "_model_module_version": "1.2.0",
            "_model_name": "LayoutModel",
            "_view_count": null,
            "_view_module": "@jupyter-widgets/base",
            "_view_module_version": "1.2.0",
            "_view_name": "LayoutView",
            "align_content": null,
            "align_items": null,
            "align_self": null,
            "border": null,
            "bottom": null,
            "display": null,
            "flex": null,
            "flex_flow": null,
            "grid_area": null,
            "grid_auto_columns": null,
            "grid_auto_flow": null,
            "grid_auto_rows": null,
            "grid_column": null,
            "grid_gap": null,
            "grid_row": null,
            "grid_template_areas": null,
            "grid_template_columns": null,
            "grid_template_rows": null,
            "height": null,
            "justify_content": null,
            "justify_items": null,
            "left": null,
            "margin": null,
            "max_height": null,
            "max_width": null,
            "min_height": null,
            "min_width": null,
            "object_fit": null,
            "object_position": null,
            "order": null,
            "overflow": null,
            "overflow_x": null,
            "overflow_y": null,
            "padding": null,
            "right": null,
            "top": null,
            "visibility": null,
            "width": null
          }
        },
        "b02471c2f2db430fa13507787cf61206": {
          "model_module": "@jupyter-widgets/controls",
          "model_name": "DescriptionStyleModel",
          "model_module_version": "1.5.0",
          "state": {
            "_model_module": "@jupyter-widgets/controls",
            "_model_module_version": "1.5.0",
            "_model_name": "DescriptionStyleModel",
            "_view_count": null,
            "_view_module": "@jupyter-widgets/base",
            "_view_module_version": "1.2.0",
            "_view_name": "StyleView",
            "description_width": ""
          }
        },
        "45f9b9851e3743bdbfc93d7f6e6a9a7f": {
          "model_module": "@jupyter-widgets/base",
          "model_name": "LayoutModel",
          "model_module_version": "1.2.0",
          "state": {
            "_model_module": "@jupyter-widgets/base",
            "_model_module_version": "1.2.0",
            "_model_name": "LayoutModel",
            "_view_count": null,
            "_view_module": "@jupyter-widgets/base",
            "_view_module_version": "1.2.0",
            "_view_name": "LayoutView",
            "align_content": null,
            "align_items": null,
            "align_self": null,
            "border": null,
            "bottom": null,
            "display": null,
            "flex": null,
            "flex_flow": null,
            "grid_area": null,
            "grid_auto_columns": null,
            "grid_auto_flow": null,
            "grid_auto_rows": null,
            "grid_column": null,
            "grid_gap": null,
            "grid_row": null,
            "grid_template_areas": null,
            "grid_template_columns": null,
            "grid_template_rows": null,
            "height": null,
            "justify_content": null,
            "justify_items": null,
            "left": null,
            "margin": null,
            "max_height": null,
            "max_width": null,
            "min_height": null,
            "min_width": null,
            "object_fit": null,
            "object_position": null,
            "order": null,
            "overflow": null,
            "overflow_x": null,
            "overflow_y": null,
            "padding": null,
            "right": null,
            "top": null,
            "visibility": null,
            "width": null
          }
        },
        "311bda51c1694a80a9b4ccf1a0e61230": {
          "model_module": "@jupyter-widgets/controls",
          "model_name": "ProgressStyleModel",
          "model_module_version": "1.5.0",
          "state": {
            "_model_module": "@jupyter-widgets/controls",
            "_model_module_version": "1.5.0",
            "_model_name": "ProgressStyleModel",
            "_view_count": null,
            "_view_module": "@jupyter-widgets/base",
            "_view_module_version": "1.2.0",
            "_view_name": "StyleView",
            "bar_color": null,
            "description_width": ""
          }
        },
        "f8ec5997ad944fffa620a4ac0278fb5f": {
          "model_module": "@jupyter-widgets/base",
          "model_name": "LayoutModel",
          "model_module_version": "1.2.0",
          "state": {
            "_model_module": "@jupyter-widgets/base",
            "_model_module_version": "1.2.0",
            "_model_name": "LayoutModel",
            "_view_count": null,
            "_view_module": "@jupyter-widgets/base",
            "_view_module_version": "1.2.0",
            "_view_name": "LayoutView",
            "align_content": null,
            "align_items": null,
            "align_self": null,
            "border": null,
            "bottom": null,
            "display": null,
            "flex": null,
            "flex_flow": null,
            "grid_area": null,
            "grid_auto_columns": null,
            "grid_auto_flow": null,
            "grid_auto_rows": null,
            "grid_column": null,
            "grid_gap": null,
            "grid_row": null,
            "grid_template_areas": null,
            "grid_template_columns": null,
            "grid_template_rows": null,
            "height": null,
            "justify_content": null,
            "justify_items": null,
            "left": null,
            "margin": null,
            "max_height": null,
            "max_width": null,
            "min_height": null,
            "min_width": null,
            "object_fit": null,
            "object_position": null,
            "order": null,
            "overflow": null,
            "overflow_x": null,
            "overflow_y": null,
            "padding": null,
            "right": null,
            "top": null,
            "visibility": null,
            "width": null
          }
        },
        "7cc9c5b9c9cc48278925b9455a0990d1": {
          "model_module": "@jupyter-widgets/controls",
          "model_name": "DescriptionStyleModel",
          "model_module_version": "1.5.0",
          "state": {
            "_model_module": "@jupyter-widgets/controls",
            "_model_module_version": "1.5.0",
            "_model_name": "DescriptionStyleModel",
            "_view_count": null,
            "_view_module": "@jupyter-widgets/base",
            "_view_module_version": "1.2.0",
            "_view_name": "StyleView",
            "description_width": ""
          }
        }
      }
    }
  },
  "nbformat_minor": 0,
  "nbformat": 4,
  "cells": [
    {
      "cell_type": "markdown",
      "source": [
        "# Stock Price Prediction (NIFTY 50)\n",
        "\n",
        "This project focuses on predicting the **NIFTY 50 stock price (High parameter only)** using **Deep Learning (DL)** approaches.\n",
        "The workflow involves preparing time-series datasets with different input windows, training multiple neural models, and comparing their performance.\n",
        "\n",
        "---\n",
        "\n",
        "## Pipeline Overview\n",
        "\n",
        "1. **Data Loading**\n",
        "\n",
        "   * Load stock price data (`data.csv`).\n",
        "   * Use only the `High` feature.\n",
        "\n",
        "2. **Data Preparation**\n",
        "\n",
        "   * Create supervised datasets using sliding windows of **30, 60, and 90 days**.\n",
        "   * Generate `(X, y)` pairs for forecasting.\n",
        "\n",
        "3. **Modeling**\n",
        "\n",
        "   * **Deep Learning Models** (Keras Sequential API)\n",
        "\n",
        "     * KNN\n",
        "     * RNN\n",
        "     * LSTM\n",
        "     * GRU\n",
        "     * Bidirectional LSTM\n",
        "\n",
        "4. **Training**\n",
        "\n",
        "   * Train each model on all three window sizes (total **15 models**).\n",
        "   * Evaluate performance using **MAE** and **RMSE**.\n",
        "\n",
        "5. **Evaluation & Comparison**\n",
        "\n",
        "   * Store results for all models.\n",
        "   * Compare architectures across different horizons (30, 60, 90 days).\n",
        "\n",
        "---\n",
        "\n",
        "## Key Highlights\n",
        "\n",
        "* Focused exclusively on **High price forecasting**.\n",
        "* Evaluates **5 DL models across 3 horizons** (15 total).\n",
        "* Tracks **training vs testing errors** for robust evaluation.\n",
        "* Builds on previous 417-model analysis, now refined for **optimized DL-only study**."
      ],
      "metadata": {
        "id": "837BQmv01ffh"
      }
    },
    {
      "cell_type": "markdown",
      "source": [
        "### 1. Import Libraries & Dataset"
      ],
      "metadata": {
        "id": "mYcX03TMmmWD"
      }
    },
    {
      "cell_type": "markdown",
      "source": [
        "1. **Import Libraries**\n",
        "\n",
        "   * `numpy`, `pandas`: data handling\n",
        "   * `matplotlib`, `seaborn`: visualization\n",
        "   * `tqdm`: progress tracking\n",
        "   * `sklearn`: preprocessing, train-test split, metrics\n",
        "   * `tensorflow.keras`: deep learning models (Sequential, LSTM, GRU, RNN, Bidirectional)\n",
        "\n",
        "2. **Load Dataset**\n",
        "\n",
        "   * `df = pd.read_csv('data.csv')` → load data from CSV\n",
        "   * Focus on **`High`** column only\n",
        "   * `df.head()` → preview first 5 rows\n",
        "\n",
        "3. **Models Imported**\n",
        "\n",
        "   * `KNeighborsRegressor` (from sklearn)\n",
        "   * `SimpleRNN`, `LSTM`, `GRU`, `Bidirectional` (from keras.layers)\n",
        "\n",
        "4. **Metrics Imported**\n",
        "\n",
        "   * `mean_absolute_error`, `mean_squared_error` → evaluate model performance (MAE, RMSE)"
      ],
      "metadata": {
        "id": "8XCf_7dEzAHb"
      }
    },
    {
      "cell_type": "code",
      "source": [
        "import warnings\n",
        "import numpy as np\n",
        "import pandas as pd\n",
        "import tensorflow as tf\n",
        "from copy import deepcopy\n",
        "from tqdm.auto import tqdm\n",
        "from sklearn.preprocessing import MinMaxScaler\n",
        "from tensorflow.keras.models import Sequential\n",
        "from sklearn.neighbors import KNeighborsRegressor\n",
        "from sklearn.model_selection import train_test_split\n",
        "from sklearn.metrics import mean_absolute_error, mean_squared_error\n",
        "from tensorflow.keras.layers import Dense, SimpleRNN, LSTM, GRU, Bidirectional\n",
        "\n",
        "warnings.filterwarnings(\"ignore\")\n",
        "\n",
        "df = pd.read_csv('https://raw.githubusercontent.com/kush-agra-soni/nifty50_stock_price_modelling/refs/heads/main/data.csv')\n",
        "df.head()"
      ],
      "metadata": {
        "_uuid": "8f2839f25d086af736a60e9eeb907d3b93b6e0e5",
        "_cell_guid": "b1076dfc-b9ad-4769-8c92-a6c4dae69d19",
        "trusted": true,
        "execution": {
          "iopub.status.busy": "2025-06-06T17:51:35.605215Z",
          "iopub.execute_input": "2025-06-06T17:51:35.605834Z",
          "iopub.status.idle": "2025-06-06T17:51:35.628024Z",
          "shell.execute_reply.started": "2025-06-06T17:51:35.605807Z",
          "shell.execute_reply": "2025-06-06T17:51:35.627363Z"
        },
        "colab": {
          "base_uri": "https://localhost:8080/",
          "height": 206
        },
        "id": "SvNjJGZhLZDm",
        "outputId": "8f903980-5de1-4bdb-dbc9-2e459dc3027a"
      },
      "outputs": [
        {
          "output_type": "execute_result",
          "data": {
            "text/plain": [
              "         Date     Open     High      Low   Close\n",
              "0  2000-01-03  1482.15  1592.90  1482.15  1592.2\n",
              "1  2000-01-04  1594.40  1641.95  1594.40  1638.7\n",
              "2  2000-01-05  1634.55  1635.50  1555.05  1595.8\n",
              "3  2000-01-06  1595.80  1639.00  1595.80  1617.6\n",
              "4  2000-01-07  1616.60  1628.25  1597.20  1613.3"
            ],
            "text/html": [
              "\n",
              "  <div id=\"df-0d3b26cb-8470-4204-975f-53764e482683\" class=\"colab-df-container\">\n",
              "    <div>\n",
              "<style scoped>\n",
              "    .dataframe tbody tr th:only-of-type {\n",
              "        vertical-align: middle;\n",
              "    }\n",
              "\n",
              "    .dataframe tbody tr th {\n",
              "        vertical-align: top;\n",
              "    }\n",
              "\n",
              "    .dataframe thead th {\n",
              "        text-align: right;\n",
              "    }\n",
              "</style>\n",
              "<table border=\"1\" class=\"dataframe\">\n",
              "  <thead>\n",
              "    <tr style=\"text-align: right;\">\n",
              "      <th></th>\n",
              "      <th>Date</th>\n",
              "      <th>Open</th>\n",
              "      <th>High</th>\n",
              "      <th>Low</th>\n",
              "      <th>Close</th>\n",
              "    </tr>\n",
              "  </thead>\n",
              "  <tbody>\n",
              "    <tr>\n",
              "      <th>0</th>\n",
              "      <td>2000-01-03</td>\n",
              "      <td>1482.15</td>\n",
              "      <td>1592.90</td>\n",
              "      <td>1482.15</td>\n",
              "      <td>1592.2</td>\n",
              "    </tr>\n",
              "    <tr>\n",
              "      <th>1</th>\n",
              "      <td>2000-01-04</td>\n",
              "      <td>1594.40</td>\n",
              "      <td>1641.95</td>\n",
              "      <td>1594.40</td>\n",
              "      <td>1638.7</td>\n",
              "    </tr>\n",
              "    <tr>\n",
              "      <th>2</th>\n",
              "      <td>2000-01-05</td>\n",
              "      <td>1634.55</td>\n",
              "      <td>1635.50</td>\n",
              "      <td>1555.05</td>\n",
              "      <td>1595.8</td>\n",
              "    </tr>\n",
              "    <tr>\n",
              "      <th>3</th>\n",
              "      <td>2000-01-06</td>\n",
              "      <td>1595.80</td>\n",
              "      <td>1639.00</td>\n",
              "      <td>1595.80</td>\n",
              "      <td>1617.6</td>\n",
              "    </tr>\n",
              "    <tr>\n",
              "      <th>4</th>\n",
              "      <td>2000-01-07</td>\n",
              "      <td>1616.60</td>\n",
              "      <td>1628.25</td>\n",
              "      <td>1597.20</td>\n",
              "      <td>1613.3</td>\n",
              "    </tr>\n",
              "  </tbody>\n",
              "</table>\n",
              "</div>\n",
              "    <div class=\"colab-df-buttons\">\n",
              "\n",
              "  <div class=\"colab-df-container\">\n",
              "    <button class=\"colab-df-convert\" onclick=\"convertToInteractive('df-0d3b26cb-8470-4204-975f-53764e482683')\"\n",
              "            title=\"Convert this dataframe to an interactive table.\"\n",
              "            style=\"display:none;\">\n",
              "\n",
              "  <svg xmlns=\"http://www.w3.org/2000/svg\" height=\"24px\" viewBox=\"0 -960 960 960\">\n",
              "    <path d=\"M120-120v-720h720v720H120Zm60-500h600v-160H180v160Zm220 220h160v-160H400v160Zm0 220h160v-160H400v160ZM180-400h160v-160H180v160Zm440 0h160v-160H620v160ZM180-180h160v-160H180v160Zm440 0h160v-160H620v160Z\"/>\n",
              "  </svg>\n",
              "    </button>\n",
              "\n",
              "  <style>\n",
              "    .colab-df-container {\n",
              "      display:flex;\n",
              "      gap: 12px;\n",
              "    }\n",
              "\n",
              "    .colab-df-convert {\n",
              "      background-color: #E8F0FE;\n",
              "      border: none;\n",
              "      border-radius: 50%;\n",
              "      cursor: pointer;\n",
              "      display: none;\n",
              "      fill: #1967D2;\n",
              "      height: 32px;\n",
              "      padding: 0 0 0 0;\n",
              "      width: 32px;\n",
              "    }\n",
              "\n",
              "    .colab-df-convert:hover {\n",
              "      background-color: #E2EBFA;\n",
              "      box-shadow: 0px 1px 2px rgba(60, 64, 67, 0.3), 0px 1px 3px 1px rgba(60, 64, 67, 0.15);\n",
              "      fill: #174EA6;\n",
              "    }\n",
              "\n",
              "    .colab-df-buttons div {\n",
              "      margin-bottom: 4px;\n",
              "    }\n",
              "\n",
              "    [theme=dark] .colab-df-convert {\n",
              "      background-color: #3B4455;\n",
              "      fill: #D2E3FC;\n",
              "    }\n",
              "\n",
              "    [theme=dark] .colab-df-convert:hover {\n",
              "      background-color: #434B5C;\n",
              "      box-shadow: 0px 1px 3px 1px rgba(0, 0, 0, 0.15);\n",
              "      filter: drop-shadow(0px 1px 2px rgba(0, 0, 0, 0.3));\n",
              "      fill: #FFFFFF;\n",
              "    }\n",
              "  </style>\n",
              "\n",
              "    <script>\n",
              "      const buttonEl =\n",
              "        document.querySelector('#df-0d3b26cb-8470-4204-975f-53764e482683 button.colab-df-convert');\n",
              "      buttonEl.style.display =\n",
              "        google.colab.kernel.accessAllowed ? 'block' : 'none';\n",
              "\n",
              "      async function convertToInteractive(key) {\n",
              "        const element = document.querySelector('#df-0d3b26cb-8470-4204-975f-53764e482683');\n",
              "        const dataTable =\n",
              "          await google.colab.kernel.invokeFunction('convertToInteractive',\n",
              "                                                    [key], {});\n",
              "        if (!dataTable) return;\n",
              "\n",
              "        const docLinkHtml = 'Like what you see? Visit the ' +\n",
              "          '<a target=\"_blank\" href=https://colab.research.google.com/notebooks/data_table.ipynb>data table notebook</a>'\n",
              "          + ' to learn more about interactive tables.';\n",
              "        element.innerHTML = '';\n",
              "        dataTable['output_type'] = 'display_data';\n",
              "        await google.colab.output.renderOutput(dataTable, element);\n",
              "        const docLink = document.createElement('div');\n",
              "        docLink.innerHTML = docLinkHtml;\n",
              "        element.appendChild(docLink);\n",
              "      }\n",
              "    </script>\n",
              "  </div>\n",
              "\n",
              "\n",
              "    <div id=\"df-713e561a-af03-4c35-8c72-5c50c6a8efbd\">\n",
              "      <button class=\"colab-df-quickchart\" onclick=\"quickchart('df-713e561a-af03-4c35-8c72-5c50c6a8efbd')\"\n",
              "                title=\"Suggest charts\"\n",
              "                style=\"display:none;\">\n",
              "\n",
              "<svg xmlns=\"http://www.w3.org/2000/svg\" height=\"24px\"viewBox=\"0 0 24 24\"\n",
              "     width=\"24px\">\n",
              "    <g>\n",
              "        <path d=\"M19 3H5c-1.1 0-2 .9-2 2v14c0 1.1.9 2 2 2h14c1.1 0 2-.9 2-2V5c0-1.1-.9-2-2-2zM9 17H7v-7h2v7zm4 0h-2V7h2v10zm4 0h-2v-4h2v4z\"/>\n",
              "    </g>\n",
              "</svg>\n",
              "      </button>\n",
              "\n",
              "<style>\n",
              "  .colab-df-quickchart {\n",
              "      --bg-color: #E8F0FE;\n",
              "      --fill-color: #1967D2;\n",
              "      --hover-bg-color: #E2EBFA;\n",
              "      --hover-fill-color: #174EA6;\n",
              "      --disabled-fill-color: #AAA;\n",
              "      --disabled-bg-color: #DDD;\n",
              "  }\n",
              "\n",
              "  [theme=dark] .colab-df-quickchart {\n",
              "      --bg-color: #3B4455;\n",
              "      --fill-color: #D2E3FC;\n",
              "      --hover-bg-color: #434B5C;\n",
              "      --hover-fill-color: #FFFFFF;\n",
              "      --disabled-bg-color: #3B4455;\n",
              "      --disabled-fill-color: #666;\n",
              "  }\n",
              "\n",
              "  .colab-df-quickchart {\n",
              "    background-color: var(--bg-color);\n",
              "    border: none;\n",
              "    border-radius: 50%;\n",
              "    cursor: pointer;\n",
              "    display: none;\n",
              "    fill: var(--fill-color);\n",
              "    height: 32px;\n",
              "    padding: 0;\n",
              "    width: 32px;\n",
              "  }\n",
              "\n",
              "  .colab-df-quickchart:hover {\n",
              "    background-color: var(--hover-bg-color);\n",
              "    box-shadow: 0 1px 2px rgba(60, 64, 67, 0.3), 0 1px 3px 1px rgba(60, 64, 67, 0.15);\n",
              "    fill: var(--button-hover-fill-color);\n",
              "  }\n",
              "\n",
              "  .colab-df-quickchart-complete:disabled,\n",
              "  .colab-df-quickchart-complete:disabled:hover {\n",
              "    background-color: var(--disabled-bg-color);\n",
              "    fill: var(--disabled-fill-color);\n",
              "    box-shadow: none;\n",
              "  }\n",
              "\n",
              "  .colab-df-spinner {\n",
              "    border: 2px solid var(--fill-color);\n",
              "    border-color: transparent;\n",
              "    border-bottom-color: var(--fill-color);\n",
              "    animation:\n",
              "      spin 1s steps(1) infinite;\n",
              "  }\n",
              "\n",
              "  @keyframes spin {\n",
              "    0% {\n",
              "      border-color: transparent;\n",
              "      border-bottom-color: var(--fill-color);\n",
              "      border-left-color: var(--fill-color);\n",
              "    }\n",
              "    20% {\n",
              "      border-color: transparent;\n",
              "      border-left-color: var(--fill-color);\n",
              "      border-top-color: var(--fill-color);\n",
              "    }\n",
              "    30% {\n",
              "      border-color: transparent;\n",
              "      border-left-color: var(--fill-color);\n",
              "      border-top-color: var(--fill-color);\n",
              "      border-right-color: var(--fill-color);\n",
              "    }\n",
              "    40% {\n",
              "      border-color: transparent;\n",
              "      border-right-color: var(--fill-color);\n",
              "      border-top-color: var(--fill-color);\n",
              "    }\n",
              "    60% {\n",
              "      border-color: transparent;\n",
              "      border-right-color: var(--fill-color);\n",
              "    }\n",
              "    80% {\n",
              "      border-color: transparent;\n",
              "      border-right-color: var(--fill-color);\n",
              "      border-bottom-color: var(--fill-color);\n",
              "    }\n",
              "    90% {\n",
              "      border-color: transparent;\n",
              "      border-bottom-color: var(--fill-color);\n",
              "    }\n",
              "  }\n",
              "</style>\n",
              "\n",
              "      <script>\n",
              "        async function quickchart(key) {\n",
              "          const quickchartButtonEl =\n",
              "            document.querySelector('#' + key + ' button');\n",
              "          quickchartButtonEl.disabled = true;  // To prevent multiple clicks.\n",
              "          quickchartButtonEl.classList.add('colab-df-spinner');\n",
              "          try {\n",
              "            const charts = await google.colab.kernel.invokeFunction(\n",
              "                'suggestCharts', [key], {});\n",
              "          } catch (error) {\n",
              "            console.error('Error during call to suggestCharts:', error);\n",
              "          }\n",
              "          quickchartButtonEl.classList.remove('colab-df-spinner');\n",
              "          quickchartButtonEl.classList.add('colab-df-quickchart-complete');\n",
              "        }\n",
              "        (() => {\n",
              "          let quickchartButtonEl =\n",
              "            document.querySelector('#df-713e561a-af03-4c35-8c72-5c50c6a8efbd button');\n",
              "          quickchartButtonEl.style.display =\n",
              "            google.colab.kernel.accessAllowed ? 'block' : 'none';\n",
              "        })();\n",
              "      </script>\n",
              "    </div>\n",
              "\n",
              "    </div>\n",
              "  </div>\n"
            ],
            "application/vnd.google.colaboratory.intrinsic+json": {
              "type": "dataframe",
              "variable_name": "df",
              "summary": "{\n  \"name\": \"df\",\n  \"rows\": 6315,\n  \"fields\": [\n    {\n      \"column\": \"Date\",\n      \"properties\": {\n        \"dtype\": \"object\",\n        \"num_unique_values\": 6315,\n        \"samples\": [\n          \"2004-11-17\",\n          \"2015-07-22\",\n          \"2019-08-07\"\n        ],\n        \"semantic_type\": \"\",\n        \"description\": \"\"\n      }\n    },\n    {\n      \"column\": \"Open\",\n      \"properties\": {\n        \"dtype\": \"number\",\n        \"std\": 6248.404052765841,\n        \"min\": 853.0,\n        \"max\": 26248.25,\n        \"num_unique_values\": 6209,\n        \"samples\": [\n          7897.4,\n          957.55,\n          10738.45\n        ],\n        \"semantic_type\": \"\",\n        \"description\": \"\"\n      }\n    },\n    {\n      \"column\": \"High\",\n      \"properties\": {\n        \"dtype\": \"number\",\n        \"std\": 6270.434419505976,\n        \"min\": 877.0,\n        \"max\": 26277.35,\n        \"num_unique_values\": 6226,\n        \"samples\": [\n          1349.25,\n          1610.6,\n          2842.9\n        ],\n        \"semantic_type\": \"\",\n        \"description\": \"\"\n      }\n    },\n    {\n      \"column\": \"Low\",\n      \"properties\": {\n        \"dtype\": \"number\",\n        \"std\": 6216.988573625996,\n        \"min\": 849.95,\n        \"max\": 26151.4,\n        \"num_unique_values\": 6207,\n        \"samples\": [\n          8408.3,\n          8517.2,\n          4392.0\n        ],\n        \"semantic_type\": \"\",\n        \"description\": \"\"\n      }\n    },\n    {\n      \"column\": \"Close\",\n      \"properties\": {\n        \"dtype\": \"number\",\n        \"std\": 6244.654056542602,\n        \"min\": 854.2,\n        \"max\": 26216.05,\n        \"num_unique_values\": 6127,\n        \"samples\": [\n          2419.0,\n          19389.0,\n          10480.6\n        ],\n        \"semantic_type\": \"\",\n        \"description\": \"\"\n      }\n    }\n  ]\n}"
            }
          },
          "metadata": {},
          "execution_count": 12
        }
      ],
      "execution_count": 12
    },
    {
      "cell_type": "markdown",
      "source": [
        "### 2. Data Preparation"
      ],
      "metadata": {
        "id": "o2C2h8tXmzZ_"
      }
    },
    {
      "cell_type": "markdown",
      "source": [
        "1. **Train-Test Split**\n",
        "\n",
        "   * Use `train_test_split()` after creating sliding window datasets (30, 60, 90 days).\n",
        "   * Split into training and testing sets for each horizon.\n",
        "\n",
        "2. **Models List**\n",
        "\n",
        "   * Collection of models to evaluate:\n",
        "\n",
        "     * `KNeighborsRegressor` (sklearn)\n",
        "     * `SimpleRNN` (Keras)\n",
        "     * `LSTM` (Keras)\n",
        "     * `GRU` (Keras)\n",
        "     * `Bidirectional(LSTM)` (Keras)\n",
        "\n",
        "3. **Training Loop**\n",
        "\n",
        "   * For each model × window size:\n",
        "\n",
        "     * Scale input with `MinMaxScaler`.\n",
        "     * `fit()` → train on training data.\n",
        "     * `predict()` → generate predictions on test data.\n",
        "\n",
        "4. **Evaluation**\n",
        "\n",
        "   * Metrics used:\n",
        "\n",
        "     * `mean_absolute_error` (MAE)\n",
        "     * `mean_squared_error` (MSE, RMSE)\n",
        "   * Store results in a structured format (dict or DataFrame) for comparison."
      ],
      "metadata": {
        "id": "On4HUmb7zKMs"
      }
    },
    {
      "cell_type": "code",
      "source": [
        "def return_pairs(column, days):\n",
        "    prices = list(column)\n",
        "    X, y = [], []\n",
        "    for i in range(len(prices) - days):\n",
        "        X.append(prices[i:i+days])\n",
        "        y.append(prices[i+days])\n",
        "    return np.array(X), np.array(y)\n",
        "\n",
        "# Only focus on 'High' column\n",
        "target_column = 'High'\n",
        "day_chunks = [30, 60, 90]\n",
        "\n",
        "chunked_data = {}\n",
        "\n",
        "for days in day_chunks:\n",
        "    key_X = f\"X_{target_column}_{days}\"\n",
        "    key_y = f\"y_{target_column}_{days}\"\n",
        "    X, y = return_pairs(df[target_column], days)\n",
        "    chunked_data[key_X] = X\n",
        "    chunked_data[key_y] = y\n",
        "\n",
        "# Pair up X and y for each horizon\n",
        "chunk_pairs = []\n",
        "for days in day_chunks:\n",
        "    key_X = f\"X_{target_column}_{days}\"\n",
        "    key_y = f\"y_{target_column}_{days}\"\n",
        "    chunk_pairs.append([key_X, key_y])\n",
        "\n",
        "print(\"Generated pairs:\", chunk_pairs)"
      ],
      "metadata": {
        "trusted": true,
        "execution": {
          "iopub.status.busy": "2025-06-06T17:51:35.764313Z",
          "iopub.execute_input": "2025-06-06T17:51:35.764702Z",
          "iopub.status.idle": "2025-06-06T17:51:37.352837Z",
          "shell.execute_reply.started": "2025-06-06T17:51:35.764682Z",
          "shell.execute_reply": "2025-06-06T17:51:37.352248Z"
        },
        "id": "oR_G9WHYLZDn",
        "colab": {
          "base_uri": "https://localhost:8080/"
        },
        "outputId": "28ef7c28-5864-4d07-c639-b8bc91358e33"
      },
      "outputs": [
        {
          "output_type": "stream",
          "name": "stdout",
          "text": [
            "Generated pairs: [['X_High_30', 'y_High_30'], ['X_High_60', 'y_High_60'], ['X_High_90', 'y_High_90']]\n"
          ]
        }
      ],
      "execution_count": 13
    },
    {
      "cell_type": "markdown",
      "source": [
        "### 3. Define Neural Network Models"
      ],
      "metadata": {
        "id": "ayjEKlO8nAke"
      }
    },
    {
      "cell_type": "markdown",
      "source": [
        "1. **Imports**\n",
        "\n",
        "   * `Sequential` → used to build models layer by layer\n",
        "   * Layers: `Dense`, `SimpleRNN`, `LSTM`, `GRU`, `Bidirectional` → provide different recurrent architectures for sequence modeling\n",
        "\n",
        "2. **Model Builder Functions**\n",
        "\n",
        "   * `build_rnn(input_shape)` → Simple RNN with 50 units → `Dense(1)` output\n",
        "   * `build_lstm(input_shape)` → LSTM with 50 units → `Dense(1)` output\n",
        "   * `build_gru(input_shape)` → GRU with 50 units → `Dense(1)` output\n",
        "   * `build_bilstm(input_shape)` → Bidirectional LSTM with 50 units → `Dense(1)` output\n",
        "\n",
        "3. **Compilation**\n",
        "\n",
        "   * Optimizer: `adam` for efficient gradient updates\n",
        "   * Loss: `mse` (Mean Squared Error), suitable for regression on continuous stock price values\n",
        "\n",
        "4. **Purpose**\n",
        "\n",
        "   * All models are built for **time-series regression**, specifically predicting the **High price of NIFTY 50**.\n",
        "   * Each architecture captures temporal dependencies differently:\n",
        "\n",
        "     * RNN → simple sequential memory\n",
        "     * LSTM/GRU → handle long-term dependencies with gating\n",
        "     * BiLSTM → processes sequences in both forward and backward directions for richer context"
      ],
      "metadata": {
        "id": "8WyY8z9gzRYm"
      }
    },
    {
      "cell_type": "code",
      "source": [
        "from tensorflow.keras.models import Sequential\n",
        "from tensorflow.keras.layers import Dense, SimpleRNN, LSTM, GRU, Bidirectional\n",
        "\n",
        "# --- Model Builder Functions ---\n",
        "\n",
        "def build_rnn(input_shape):\n",
        "    \"\"\"Build a Simple RNN model for regression\"\"\"\n",
        "    model = Sequential([\n",
        "        SimpleRNN(50, activation='tanh', input_shape=input_shape),\n",
        "        Dense(1)  # single output for regression\n",
        "    ])\n",
        "    model.compile(optimizer='adam', loss='mse')\n",
        "    return model\n",
        "\n",
        "\n",
        "def build_lstm(input_shape):\n",
        "    \"\"\"Build an LSTM model for regression\"\"\"\n",
        "    model = Sequential([\n",
        "        LSTM(50, activation='tanh', input_shape=input_shape),\n",
        "        Dense(1)\n",
        "    ])\n",
        "    model.compile(optimizer='adam', loss='mse')\n",
        "    return model\n",
        "\n",
        "\n",
        "def build_gru(input_shape):\n",
        "    \"\"\"Build a GRU model for regression\"\"\"\n",
        "    model = Sequential([\n",
        "        GRU(50, activation='tanh', input_shape=input_shape),\n",
        "        Dense(1)\n",
        "    ])\n",
        "    model.compile(optimizer='adam', loss='mse')\n",
        "    return model\n",
        "\n",
        "\n",
        "def build_bilstm(input_shape):\n",
        "    \"\"\"Build a Bidirectional LSTM model for regression\"\"\"\n",
        "    model = Sequential([\n",
        "        Bidirectional(LSTM(50, activation='tanh'), input_shape=input_shape),\n",
        "        Dense(1)\n",
        "    ])\n",
        "    model.compile(optimizer='adam', loss='mse')\n",
        "    return model"
      ],
      "metadata": {
        "id": "_7c8mEVZMILG"
      },
      "execution_count": 14,
      "outputs": []
    },
    {
      "cell_type": "markdown",
      "source": [
        "### 4. Define ML Models"
      ],
      "metadata": {
        "id": "oSe33wQJnE74"
      }
    },
    {
      "cell_type": "markdown",
      "source": [
        "> **ml\\_models (Traditional ML)**\n",
        "\n",
        "   * A list of tuples: (name, model instance)\n",
        "   * Includes only:\n",
        "\n",
        "     * `\"KNN\"` → `KNeighborsRegressor()`\n",
        "\n",
        "   * `ml_models`: provides the **KNN baseline** from classical ML"
      ],
      "metadata": {
        "id": "7GR2d1B9zWjl"
      }
    },
    {
      "cell_type": "code",
      "source": [
        "from sklearn.neighbors import KNeighborsRegressor\n",
        "\n",
        "# --- ML Models (only KNN baseline) ---\n",
        "ml_models = [\n",
        "    (\"KNN\", KNeighborsRegressor())\n",
        "]\n",
        "\n",
        "# --- DL Models (builder functions, input_shape required) ---\n",
        "dl_models = {\n",
        "    \"RNN\": build_rnn,\n",
        "    \"LSTM\": build_lstm,\n",
        "    \"GRU\": build_gru,\n",
        "    \"BiLSTM\": build_bilstm\n",
        "}"
      ],
      "metadata": {
        "trusted": true,
        "execution": {
          "iopub.status.busy": "2025-06-06T17:51:37.353951Z",
          "iopub.execute_input": "2025-06-06T17:51:37.354171Z",
          "iopub.status.idle": "2025-06-06T17:51:37.358468Z",
          "shell.execute_reply.started": "2025-06-06T17:51:37.354144Z",
          "shell.execute_reply": "2025-06-06T17:51:37.357811Z"
        },
        "id": "cm7cmgElLZDn"
      },
      "outputs": [],
      "execution_count": 15
    },
    {
      "cell_type": "markdown",
      "source": [
        "### 5. Model Training"
      ],
      "metadata": {
        "id": "76XqOB5KnPnN"
      }
    },
    {
      "cell_type": "markdown",
      "source": [
        "1. **Initialize**\n",
        "\n",
        "   * `trained_models = {}` → dictionary to store all trained models and their evaluation results.\n",
        "\n",
        "2. **Iterate over Data Pairs**\n",
        "\n",
        "   * For each `(X, y)` from `chunk_pairs` (30, 60, 90 days).\n",
        "   * Extract `X_data` and `y_data` from `chunked_data`.\n",
        "   * Split using `train_test_split` (90% train, 10% test).\n",
        "\n",
        "3. **Train KNN (ML Baseline)**\n",
        "\n",
        "   * Loop through `ml_models` (only KNN).\n",
        "   * Use `deepcopy` to avoid reusing fitted models.\n",
        "   * `fit()` on training data, `predict()` on both train & test.\n",
        "   * Save model and metrics:\n",
        "\n",
        "     * `train_mae`, `train_rmse`\n",
        "     * `test_mae`, `test_rmse`\n",
        "\n",
        "4. **Prepare Data for DL Models**\n",
        "\n",
        "   * Reshape `X_data` → `(samples, timesteps, features)` so it’s compatible with RNN-based networks.\n",
        "\n",
        "5. **Train DL Models**\n",
        "\n",
        "   * Loop through `dl_models` (RNN, LSTM, GRU, BiLSTM).\n",
        "   * Build model with the correct `input_shape`.\n",
        "   * Train with `epochs=10`, `batch_size=8`.\n",
        "   * Predict on train & test sets.\n",
        "   * Save model and metrics (same as ML).\n",
        "\n",
        "6. **Final Output**\n",
        "\n",
        "   * `trained_models` contains all models with their metrics for comparison across different window sizes."
      ],
      "metadata": {
        "id": "Mj2YfY1-zZUr"
      }
    },
    {
      "cell_type": "code",
      "source": [
        "trained_models = {}\n",
        "\n",
        "for X, y in tqdm(chunk_pairs, desc=\"Datasets\"):\n",
        "    X_data = chunked_data[X]\n",
        "    y_data = chunked_data[y]\n",
        "\n",
        "    # Train-test split (90/10)\n",
        "    X_train, X_test, y_train, y_test = train_test_split(\n",
        "        X_data, y_data, test_size=0.1, random_state=42\n",
        "    )\n",
        "\n",
        "    # --- ML Baseline: KNN ---\n",
        "    for model_name, model in ml_models:\n",
        "        key = f\"{model_name}_{X}\"\n",
        "        model_copy = deepcopy(model)\n",
        "        model_copy.fit(X_train, y_train)\n",
        "\n",
        "        y_train_pred = model_copy.predict(X_train)\n",
        "        y_test_pred = model_copy.predict(X_test)\n",
        "\n",
        "        trained_models[key] = {\n",
        "            'model': model_copy,\n",
        "            'train_mae': mean_absolute_error(y_train, y_train_pred),\n",
        "            'train_rmse': np.sqrt(mean_squared_error(y_train, y_train_pred)),\n",
        "            'test_mae': mean_absolute_error(y_test, y_test_pred),\n",
        "            'test_rmse': np.sqrt(mean_squared_error(y_test, y_test_pred))\n",
        "        }\n",
        "\n",
        "    # --- Deep Learning Models ---\n",
        "    # Reshape for RNN input: (samples, timesteps, features)\n",
        "    X_train_rnn = np.expand_dims(X_train, -1)\n",
        "    X_test_rnn = np.expand_dims(X_test, -1)\n",
        "\n",
        "    for model_name, builder in dl_models.items():\n",
        "        key = f\"{model_name}_{X}\"\n",
        "        model_dl = builder((X_train_rnn.shape[1], 1))\n",
        "\n",
        "        model_dl.fit(X_train_rnn, y_train, epochs=50, batch_size=8, verbose=0)\n",
        "\n",
        "        y_train_pred = model_dl.predict(X_train_rnn, verbose=0).flatten()\n",
        "        y_test_pred = model_dl.predict(X_test_rnn, verbose=0).flatten()\n",
        "\n",
        "        trained_models[key] = {\n",
        "            'model': model_dl,\n",
        "            'train_mae': mean_absolute_error(y_train, y_train_pred),\n",
        "            'train_rmse': np.sqrt(mean_squared_error(y_train, y_train_pred)),\n",
        "            'test_mae': mean_absolute_error(y_test, y_test_pred),\n",
        "            'test_rmse': np.sqrt(mean_squared_error(y_test, y_test_pred))\n",
        "        }"
      ],
      "metadata": {
        "trusted": true,
        "execution": {
          "iopub.status.busy": "2025-06-06T17:52:18.064953Z",
          "iopub.execute_input": "2025-06-06T17:52:18.065406Z",
          "iopub.status.idle": "2025-06-06T18:29:10.578226Z",
          "shell.execute_reply.started": "2025-06-06T17:52:18.065384Z",
          "shell.execute_reply": "2025-06-06T18:29:10.577398Z"
        },
        "colab": {
          "base_uri": "https://localhost:8080/",
          "height": 49,
          "referenced_widgets": [
            "7ee81db6a8314db2b6f8dba61e2aae7a",
            "2efc2224b16b448a908dd66b5a1ecf26",
            "016461bbc8a045af9919f350fc5a2600",
            "57109eab8dc54ade8c1260d34d1fa6b4",
            "8d63dff2595f4ffbab57ed0bcda15a3e",
            "b29a5116c6be4d40889af9f82065dc55",
            "b02471c2f2db430fa13507787cf61206",
            "45f9b9851e3743bdbfc93d7f6e6a9a7f",
            "311bda51c1694a80a9b4ccf1a0e61230",
            "f8ec5997ad944fffa620a4ac0278fb5f",
            "7cc9c5b9c9cc48278925b9455a0990d1"
          ]
        },
        "id": "RU-L7qo7LZDn",
        "outputId": "359f904b-bb5d-4433-ac95-ed11caebfa08",
        "collapsed": true
      },
      "outputs": [
        {
          "output_type": "display_data",
          "data": {
            "text/plain": [
              "Datasets:   0%|          | 0/3 [00:00<?, ?it/s]"
            ],
            "application/vnd.jupyter.widget-view+json": {
              "version_major": 2,
              "version_minor": 0,
              "model_id": "7ee81db6a8314db2b6f8dba61e2aae7a"
            }
          },
          "metadata": {}
        }
      ],
      "execution_count": 16
    },
    {
      "cell_type": "markdown",
      "source": [
        "### 6. Saving Model Statistics"
      ],
      "metadata": {
        "id": "lZWtoHZ5nV2K"
      }
    },
    {
      "cell_type": "markdown",
      "source": [
        "1. **Collect Results**\n",
        "\n",
        "   * Convert the `trained_models` dictionary into a list of records.\n",
        "   * Each record stores the model name and evaluation metrics:\n",
        "     `{\"Model\": model_name, \"train_mae\": ..., \"train_rmse\": ..., \"test_mae\": ..., \"test_rmse\": ...}`\n",
        "\n",
        "2. **Create DataFrame**\n",
        "\n",
        "   * Build a `pandas.DataFrame` from the records.\n",
        "   * Columns include:\n",
        "\n",
        "     * `Model`\n",
        "     * `train_mae`, `train_rmse`\n",
        "     * `test_mae`, `test_rmse`\n",
        "\n",
        "3. **Sort Results**\n",
        "\n",
        "   * Sort the DataFrame by `test_mae` in ascending order (lower error = better performance).\n",
        "\n",
        "4. **Display**\n",
        "\n",
        "   * Show the **top 10 models** with the lowest `test_mae` out of the 15 trained models."
      ],
      "metadata": {
        "id": "Z5UcFiadzhcZ"
      }
    },
    {
      "cell_type": "code",
      "source": [
        "results_df = pd.DataFrame([\n",
        "    {\"Model\": name, **metrics}\n",
        "    for name, metrics in trained_models.items()\n",
        "])\n",
        "\n",
        "results_df = results_df.sort_values(by=\"test_mae\", ascending=True).head(10)"
      ],
      "metadata": {
        "trusted": true,
        "execution": {
          "iopub.status.busy": "2025-06-06T18:29:10.579629Z",
          "iopub.execute_input": "2025-06-06T18:29:10.579884Z",
          "iopub.status.idle": "2025-06-06T18:29:10.664738Z",
          "shell.execute_reply.started": "2025-06-06T18:29:10.579854Z",
          "shell.execute_reply": "2025-06-06T18:29:10.663986Z"
        },
        "id": "FgrZgr6ELZDn"
      },
      "outputs": [],
      "execution_count": 17
    },
    {
      "cell_type": "markdown",
      "source": [
        "### 7. Top 10 Models"
      ],
      "metadata": {
        "id": "7lTa2Ra1nZC-"
      }
    },
    {
      "cell_type": "markdown",
      "source": [
        "1. **Select Top 10**\n",
        "\n",
        "   * Sort `results_df` by `test_mae`\n",
        "   * Keep the 10 best models\n",
        "\n",
        "2. **Plot Lines**\n",
        "\n",
        "   * Plot `train_mae` with markers\n",
        "   * Plot `test_mae` with markers"
      ],
      "metadata": {
        "id": "uNcKIx3czj45"
      }
    },
    {
      "cell_type": "code",
      "source": [
        "import matplotlib.pyplot as plt\n",
        "\n",
        "# Select top 10 models by test MAE\n",
        "top_10 = results_df.sort_values(by='test_mae', ascending=True).head(10)\n",
        "\n",
        "plt.figure(figsize=(12, 5))\n",
        "plt.plot(top_10['Model'], top_10['train_mae'], marker='o', label='Train MAE')\n",
        "plt.plot(top_10['Model'], top_10['test_mae'], marker='o', label='Test MAE')\n",
        "\n",
        "plt.xticks(rotation=75)\n",
        "plt.xlabel('Model Name')\n",
        "plt.ylabel('MAE')\n",
        "plt.title('Top 10 Models: Train vs Test MAE')\n",
        "plt.legend()\n",
        "plt.grid(True)\n",
        "plt.tight_layout()\n",
        "plt.show()"
      ],
      "metadata": {
        "trusted": true,
        "execution": {
          "iopub.status.busy": "2025-06-06T18:46:18.957411Z",
          "iopub.execute_input": "2025-06-06T18:46:18.958074Z",
          "iopub.status.idle": "2025-06-06T18:46:19.504977Z",
          "shell.execute_reply.started": "2025-06-06T18:46:18.958047Z",
          "shell.execute_reply": "2025-06-06T18:46:19.504185Z"
        },
        "colab": {
          "base_uri": "https://localhost:8080/",
          "height": 506
        },
        "id": "yHf0eXA_LZDo",
        "outputId": "0b0a81cb-48ad-4e4b-98a6-9e179904ab9f"
      },
      "outputs": [
        {
          "output_type": "display_data",
          "data": {
            "text/plain": [
              "<Figure size 1200x500 with 1 Axes>"
            ],
            "image/png": "[encoded data removed]"
          },
          "metadata": {}
        }
      ],
      "execution_count": 18
    },
    {
      "cell_type": "markdown",
      "source": [
        "### 8. Relation btw. No of Input Days and Model Performance"
      ],
      "metadata": {
        "id": "LasAkREJnhWZ"
      }
    },
    {
      "cell_type": "markdown",
      "source": [
        "1. **Extract Time Windows**\n",
        "   - From each model name in `top_10`  \n",
        "   - Split string by `_` → take last part (time window)  \n",
        "\n",
        "2. **Count Frequencies**\n",
        "   - `value_counts()` → count models per time window  \n",
        "   - Sort by count (descending)  \n",
        "\n",
        "3. **Plot Bar Chart**\n",
        "   - X-axis: time windows  \n",
        "   - Y-axis: number of models in Top 50  \n",
        "\n",
        "4. **Customize**\n",
        "   - Add labels (x, y), title  \n",
        "   - Grid only on Y-axis for readability  \n",
        "   - `tight_layout()` → clean layout  \n",
        "\n",
        "5. **Show Chart**\n",
        "   - `plt.show()` → display bar chart of time-window frequencies  "
      ],
      "metadata": {
        "id": "5sKZSwwzz5X4"
      }
    },
    {
      "cell_type": "code",
      "source": [
        "# Select top 10 models by test MAE\n",
        "top_10 = results_df.sort_values(by='test_mae', ascending=True).head(10)\n",
        "\n",
        "# Extract time window from model names\n",
        "time_windows = pd.Series([i.split('_')[-1] for i in top_10['Model']])\n",
        "time_counts = time_windows.value_counts().sort_values(ascending=False)  # Sort by count\n",
        "\n",
        "# Plotting\n",
        "plt.figure(figsize=(8, 4))\n",
        "plt.bar(time_counts.index, time_counts.values, color='skyblue')\n",
        "\n",
        "# Labels and aesthetics\n",
        "plt.xlabel('Time Window (Days)')\n",
        "plt.ylabel('Number of Models in Top 10')\n",
        "plt.title('Frequency of Time Windows Among Top 10 Models (Lowest Test MAE)')\n",
        "plt.grid(axis='y', linestyle='--', alpha=0.7)\n",
        "plt.tight_layout()\n",
        "plt.show()"
      ],
      "metadata": {
        "trusted": true,
        "execution": {
          "iopub.status.busy": "2025-06-06T18:51:59.988947Z",
          "iopub.execute_input": "2025-06-06T18:51:59.989222Z",
          "iopub.status.idle": "2025-06-06T18:52:00.160268Z",
          "shell.execute_reply.started": "2025-06-06T18:51:59.989204Z",
          "shell.execute_reply": "2025-06-06T18:52:00.159611Z"
        },
        "colab": {
          "base_uri": "https://localhost:8080/",
          "height": 407
        },
        "id": "ysw4KFEKLZDo",
        "outputId": "d0fd42ca-1523-49d9-f817-d5f3a38eb1db"
      },
      "outputs": [
        {
          "output_type": "display_data",
          "data": {
            "text/plain": [
              "<Figure size 800x400 with 1 Axes>"
            ],
            "image/png": "[encoded data removed]"
          },
          "metadata": {}
        }
      ],
      "execution_count": 19
    },
    {
      "cell_type": "markdown",
      "source": [
        "1. **Select Top 50 Models**\n",
        "   - Sort by `test_mae` → best 50 models  \n",
        "\n",
        "2. **Extract Target Column**\n",
        "   - From model names → split by `_`  \n",
        "   - Take second last part as target column name  \n",
        "\n",
        "3. **Count Frequencies**\n",
        "   - `value_counts()` → count occurrences of each target  \n",
        "   - Sort by frequency (descending)  \n",
        "\n",
        "4. **Plot Bar Chart**\n",
        "   - X-axis: target column names  \n",
        "   - Y-axis: number of models in Top 50  \n",
        "\n",
        "5. **Customize**\n",
        "   - Add labels, title  \n",
        "   - Grid on Y-axis for readability  \n",
        "   - Use `tight_layout()` to prevent label overlap  \n",
        "\n",
        "6. **Show Chart**\n",
        "   - `plt.show()` → display bar chart of target column frequencies"
      ],
      "metadata": {
        "id": "Iei2Dk8Z0ShT"
      }
    },
    {
      "cell_type": "markdown",
      "source": [
        "### 9. Which model works in general better on this task?"
      ],
      "metadata": {
        "id": "LdJvhB0zn65B"
      }
    },
    {
      "cell_type": "markdown",
      "source": [
        "1. **Select Top 10 Models**\n",
        "   - Sort `results_df` by `test_mae`  \n",
        "   - Keep best 10 models  \n",
        "\n",
        "2. **Extract Model Types**\n",
        "   - From model names → split by `_`  \n",
        "   - Take the first part as model type (e.g., KNN, LSTM)  \n",
        "\n",
        "3. **Count Frequencies**\n",
        "   - `value_counts()` → count occurrences of each model type  \n",
        "   - Sort counts in descending order  \n",
        "\n",
        "4. **Plot Bar Chart**\n",
        "   - X-axis: model types  \n",
        "   - Y-axis: number of models in Top 50  \n",
        "\n",
        "5. **Show Chart**\n",
        "   - `plt.show()` → display bar chart of model type distribution  "
      ],
      "metadata": {
        "id": "vGamWsJf0m2I"
      }
    },
    {
      "cell_type": "code",
      "source": [
        "# Select top 4 models by test MAE\n",
        "top_4 = results_df.sort_values(by='test_mae', ascending=True).head(4)\n",
        "\n",
        "# Extract model type from names\n",
        "model_types = pd.Series([i.split('_')[0] for i in top_10['Model']])\n",
        "model_counts = model_types.value_counts().sort_values(ascending=False)\n",
        "\n",
        "# Plotting\n",
        "plt.figure(figsize=(8, 4))\n",
        "plt.bar(model_counts.index, model_counts.values, color='lightgreen')\n",
        "\n",
        "# Labels and aesthetics\n",
        "plt.xlabel('Model Type')\n",
        "plt.ylabel('Number of Models in Top 10')\n",
        "plt.title('Model Type Frequency Among Top 10 Models (Lowest Test MAE)')\n",
        "plt.grid(axis='y', linestyle='--', alpha=0.7)\n",
        "plt.tight_layout()\n",
        "plt.show()"
      ],
      "metadata": {
        "trusted": true,
        "execution": {
          "iopub.status.busy": "2025-06-06T18:53:48.50602Z",
          "iopub.execute_input": "2025-06-06T18:53:48.506297Z",
          "iopub.status.idle": "2025-06-06T18:53:48.681141Z",
          "shell.execute_reply.started": "2025-06-06T18:53:48.506279Z",
          "shell.execute_reply": "2025-06-06T18:53:48.680513Z"
        },
        "colab": {
          "base_uri": "https://localhost:8080/",
          "height": 407
        },
        "id": "EB8CcFGqLZDp",
        "outputId": "02e20ad3-54b5-4b18-ed05-efbb1d030206"
      },
      "outputs": [
        {
          "output_type": "display_data",
          "data": {
            "text/plain": [
              "<Figure size 800x400 with 1 Axes>"
            ],
            "image/png": "[encoded data removed]"
          },
          "metadata": {}
        }
      ],
      "execution_count": 20
    },
    {
      "cell_type": "markdown",
      "source": [
        "### 10. Saving Models"
      ],
      "metadata": {
        "id": "dfzrkWKYoAGn"
      }
    },
    {
      "cell_type": "markdown",
      "source": [
        "1. **Save Results Table**\n",
        "   - `results_df.to_csv('models.csv')` → save metrics as CSV  \n",
        "\n",
        "2. **Save Trained Models**\n",
        "   - `joblib.dump(trained_models, 'trained_models.joblib')`  \n",
        "   - Stores all fitted ML + DL models + their metrics  \n",
        "\n",
        "3. **Load Models**\n",
        "   - `loaded_models = joblib.load('trained_models.joblib')`  \n",
        "   - Reload models/metrics into memory for reuse  "
      ],
      "metadata": {
        "id": "kvsy4wP00s28"
      }
    },
    {
      "cell_type": "code",
      "source": [
        "import joblib\n",
        "\n",
        "results_df.to_csv('models.csv')\n",
        "joblib.dump(trained_models, 'trained_models.joblib')\n",
        "\n",
        "loaded_models = joblib.load('trained_models.joblib')"
      ],
      "metadata": {
        "trusted": true,
        "execution": {
          "iopub.status.busy": "2025-06-06T18:29:52.066922Z",
          "iopub.execute_input": "2025-06-06T18:29:52.067187Z",
          "iopub.status.idle": "2025-06-06T18:29:52.139102Z",
          "shell.execute_reply.started": "2025-06-06T18:29:52.067169Z",
          "shell.execute_reply": "2025-06-06T18:29:52.138433Z"
        },
        "id": "jaa0zh43LZDp"
      },
      "outputs": [],
      "execution_count": 21
    },
    {
      "cell_type": "markdown",
      "source": [
        "### 11. Loading Saved Models"
      ],
      "metadata": {
        "id": "01rYsf79oE_n"
      }
    },
    {
      "cell_type": "markdown",
      "source": [
        "1. **Access Specific Model**\n",
        "   - `loaded_models['KNN_X_High_60'] & ['RNN_X_High_60']`  \n",
        "   - Retrieves dictionary with:\n",
        "     - Trained model object  \n",
        "     - Train/Test MAE & RMSE metrics  \n",
        "\n",
        "2. **Extract Model**\n",
        "   - `model = loaded_models['KNN_X_High_60']['model']`  \n",
        "   - Assigns the trained KNN regressor to `model` variable  \n",
        "   - Now can be used for `.predict()` on new data  "
      ],
      "metadata": {
        "id": "e2hQXCP80y-G"
      }
    },
    {
      "cell_type": "code",
      "source": [
        "# Loading the KNN model\n",
        "loaded_models['KNN_X_High_60']\n",
        "model_knn = loaded_models['KNN_X_High_60']['model']\n",
        "\n",
        "# Loading the RNN model\n",
        "loaded_models['RNN_X_High_60']\n",
        "model_rnn = loaded_models['RNN_X_High_60']['model']"
      ],
      "metadata": {
        "trusted": true,
        "execution": {
          "iopub.status.busy": "2025-06-06T18:57:03.03411Z",
          "iopub.execute_input": "2025-06-06T18:57:03.034368Z",
          "iopub.status.idle": "2025-06-06T18:57:03.039273Z",
          "shell.execute_reply.started": "2025-06-06T18:57:03.03435Z",
          "shell.execute_reply": "2025-06-06T18:57:03.038559Z"
        },
        "id": "MOnBiRamLZDp"
      },
      "outputs": [],
      "execution_count": 25
    },
    {
      "cell_type": "markdown",
      "source": [
        "### 12. Model Inference"
      ],
      "metadata": {
        "id": "Fsy7XbSuoJHJ"
      }
    },
    {
      "cell_type": "markdown",
      "source": [
        "### 1. **Inspect Input Sample**\n",
        "\n",
        "* `print(chunked_data['X_High_60'][5])`\n",
        "\n",
        "  * Displays the 6th sample from the feature set `X_High_60` (which corresponds to 60-day input data).\n",
        "\n",
        "---\n",
        "\n",
        "### 2. **Make Prediction for KNN Model**\n",
        "\n",
        "* `model_knn.predict([chunked_data['X_High_60'][5]])`\n",
        "\n",
        "  * Wrap the sample in a list to ensure a 2D shape `(1, n_features)`.\n",
        "  * Outputs the predicted value for that input using the trained **KNN\\_X\\_High\\_60** model.\n",
        "\n",
        "---\n",
        "\n",
        "### 3. **Make Prediction for RNN Model**\n",
        "\n",
        "* `model_rnn.predict([chunked_data['X_High_60'][5]])`\n",
        "\n",
        "  * Similarly, wrap the sample in a list for the RNN model to maintain the correct input shape.\n",
        "  * Outputs the predicted value for that input using the trained **RNN\\_X\\_High\\_60** model.\n"
      ],
      "metadata": {
        "id": "Ui1pQ4C104Vk"
      }
    },
    {
      "cell_type": "code",
      "source": [
        "# Select the input sample (6th one)\n",
        "sample_index = 5\n",
        "input_sample = chunked_data['X_High_60'][sample_index]\n",
        "\n",
        "# Print input data\n",
        "print(f\"\\n📥 Input Sample ({sample_index=}) [X_High_60]:\")\n",
        "print(input_sample)\n",
        "\n",
        "# KNN Prediction\n",
        "knn_pred = model_knn.predict([input_sample])[0]\n",
        "print(f\"\\n🤖 KNN Prediction: {knn_pred:.2f}\")\n",
        "\n",
        "# RNN Prediction (reshape input to (1, timesteps, 1))\n",
        "rnn_input = np.expand_dims(input_sample, axis=(0, -1))\n",
        "rnn_pred = model_rnn.predict(rnn_input, verbose=0)[0][0]\n",
        "print(f\"🧠 RNN Prediction: {rnn_pred:.2f}\")"
      ],
      "metadata": {
        "trusted": true,
        "execution": {
          "iopub.status.busy": "2025-06-06T18:57:16.974178Z",
          "iopub.execute_input": "2025-06-06T18:57:16.974433Z",
          "iopub.status.idle": "2025-06-06T18:57:16.978099Z",
          "shell.execute_reply.started": "2025-06-06T18:57:16.974415Z",
          "shell.execute_reply": "2025-06-06T18:57:16.977489Z"
        },
        "id": "y9mRYxQ0LZDp",
        "colab": {
          "base_uri": "https://localhost:8080/"
        },
        "outputId": "9c5406bb-0c0d-4a2e-a7b5-89f26a95bdba"
      },
      "outputs": [
        {
          "output_type": "stream",
          "name": "stdout",
          "text": [
            "\n",
            "📥 Input Sample (sample_index=5) [X_High_60]:\n",
            "[1662.1  1639.9  1631.55 1671.15 1627.4  1668.45 1615.15 1644.45 1644.4\n",
            " 1626.5  1645.   1613.65 1633.55 1610.9  1598.35 1554.15 1605.9  1616.7\n",
            " 1621.35 1645.9  1676.1  1731.65 1713.7  1771.65 1795.45 1744.5  1742.8\n",
            " 1753.1  1764.15 1767.8  1781.05 1818.15 1751.6  1757.05 1726.65 1783.3\n",
            " 1727.9  1773.85 1719.15 1721.   1730.85 1765.25 1692.25 1680.45 1645.\n",
            " 1571.3  1630.95 1621.2  1585.25 1604.   1629.2  1579.4  1593.3  1575.85\n",
            " 1609.4  1557.85 1545.55 1555.5  1534.05 1467.4 ]\n",
            "\n",
            "🤖 KNN Prediction: 1534.34\n",
            "🧠 RNN Prediction: 1701.86\n"
          ]
        }
      ],
      "execution_count": 30
    }
  ]
}